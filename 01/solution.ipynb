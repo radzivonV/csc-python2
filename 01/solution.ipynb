{
 "cells": [
  {
   "cell_type": "code",
   "execution_count": 1,
   "metadata": {},
   "outputs": [],
   "source": [
    "def print_map(m, pos):\n",
    "    visual_m = [['.' if col else '#' for col in row] for row in m]\n",
    "    visual_m[pos[0]][pos[1]] = '@'\n",
    "    string_m = '\\n'.join([''.join(row) for row in visual_m])\n",
    "    print(string_m)\n",
    "\n",
    "\n",
    "def shape(m):\n",
    "    assert m, \"map must be not empty\"\n",
    "    return len(m), len(m[0])\n",
    "\n",
    "\n",
    "def neighbours(m, pos):\n",
    "    nrows, ncols = shape(m)\n",
    "    ns = []\n",
    "    if any([pos[0] >= nrows, pos[1] >= ncols]):\n",
    "        return ns\n",
    "    if pos[0]-1 >= 0:\n",
    "        upper_n = pos[0]-1, pos[1]\n",
    "        ns.append(upper_n)\n",
    "    if pos[0]+1 < nrows:\n",
    "        bottom_n = pos[0]+1, pos[1]\n",
    "        ns.append(bottom_n)\n",
    "    if pos[1]-1 >= 0:\n",
    "        left_n = pos[0], pos[1]-1\n",
    "        ns.append(left_n)\n",
    "    if pos[1]+1 < ncols:\n",
    "        right_n = pos[0], pos[1]+1\n",
    "        ns.append(right_n)\n",
    "    return ns\n",
    "\n",
    "def availiable_neighbours(m, ns, prev_pos):\n",
    "    return [n for n in ns if m[n[0]][n[1]] and n != prev_pos]\n",
    "\n",
    "def is_exit(m, pos):\n",
    "    nrows, ncols = shape(m)\n",
    "    upper_exit = any(p==0 for p in pos)\n",
    "    bottom_exit = any([pos[0]==nrows, pos[1]==ncols])\n",
    "    return any([upper_exit, bottom_exit])\n"
   ]
  },
  {
   "cell_type": "code",
   "execution_count": 2,
   "metadata": {
    "pycharm": {
     "name": "#%%\n"
    }
   },
   "outputs": [],
   "source": [
    "m = [[False, False, False, False],\n",
    "     [False, True, False, True],\n",
    "     [False, True, False, True],\n",
    "     [True, True, False, False],\n",
    "     [False, True, True, True]]\n"
   ]
  },
  {
   "cell_type": "code",
   "execution_count": 14,
   "metadata": {
    "pycharm": {
     "name": "#%%\n"
    }
   },
   "outputs": [],
   "source": [
    "step = 0\n",
    "initial_pos = (2,1)\n",
    "\n",
    "av_ns = availiable_neighbours(m, neighbours(m, initial_pos), initial_pos)\n",
    "route = [{'pos':initial_pos, 'ns':av_ns}]\n",
    "\n",
    "make_step = True\n",
    "\n",
    "while make_step:\n",
    "    pos = route[step]['ns'].pop()\n",
    "    if is_exit(m, pos):\n",
    "        route.append({'pos':pos, 'ns':['escape']})\n",
    "        break\n",
    "    prev_pos = initial_pos\n",
    "    if step > 0:\n",
    "        prev_pos = route[step-1]['pos']\n",
    "    av_ns = availiable_neighbours(m, neighbours(m, pos), prev_pos)\n",
    "    if not av_ns:\n",
    "        if route[step]['ns']:\n",
    "            step = step\n",
    "        else:\n",
    "            dead_end = route.pop()\n",
    "            step -= 1\n",
    "    else:\n",
    "        route.append({'pos':pos, 'ns':av_ns})\n",
    "        step += 1"
   ]
  },
  {
   "cell_type": "code",
   "execution_count": 15,
   "metadata": {
    "pycharm": {
     "is_executing": true,
     "name": "#%%\n"
    }
   },
   "outputs": [
    {
     "data": {
      "text/plain": [
       "[{'pos': (2, 1), 'ns': [(1, 1)]},\n",
       " {'pos': (3, 1), 'ns': [(4, 1)]},\n",
       " {'pos': (3, 0), 'ns': ['escape']}]"
      ]
     },
     "execution_count": 15,
     "metadata": {},
     "output_type": "execute_result"
    }
   ],
   "source": [
    "route"
   ]
  },
  {
   "cell_type": "code",
   "execution_count": 16,
   "metadata": {
    "pycharm": {
     "name": "#%%\n"
    }
   },
   "outputs": [
    {
     "name": "stdout",
     "output_type": "stream",
     "text": [
      "####\n",
      "#.#.\n",
      "#@#.\n",
      "..##\n",
      "#...\n",
      "\n",
      "####\n",
      "#.#.\n",
      "#.#.\n",
      ".@##\n",
      "#...\n",
      "\n",
      "####\n",
      "#.#.\n",
      "#.#.\n",
      "@.##\n",
      "#...\n",
      "\n"
     ]
    }
   ],
   "source": [
    "for step in route:\n",
    "    print_map(m, step['pos'])\n",
    "    print()"
   ]
  },
  {
   "cell_type": "code",
   "execution_count": null,
   "metadata": {},
   "outputs": [],
   "source": []
  }
 ],
 "metadata": {
  "kernelspec": {
   "display_name": "Python 3",
   "language": "python",
   "name": "python3"
  },
  "language_info": {
   "codemirror_mode": {
    "name": "ipython",
    "version": 3
   },
   "file_extension": ".py",
   "mimetype": "text/x-python",
   "name": "python",
   "nbconvert_exporter": "python",
   "pygments_lexer": "ipython3",
   "version": "3.9.1"
  }
 },
 "nbformat": 4,
 "nbformat_minor": 1
}
